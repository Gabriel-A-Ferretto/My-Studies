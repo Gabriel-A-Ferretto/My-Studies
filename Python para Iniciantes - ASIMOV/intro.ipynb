{
 "cells": [
  {
   "cell_type": "markdown",
   "metadata": {},
   "source": [
    "## Strings, Números, Operadores e Variáveis\n",
    "### 1. Strings\n",
    "*Strings são sequências de caracteres usadas para representar texto em Python. Elas são definidas entre aspas simples ('...') ou duplas (\"...\").*"
   ]
  },
  {
   "cell_type": "code",
   "execution_count": 2,
   "metadata": {},
   "outputs": [],
   "source": [
    "# Exemplo de string\n",
    "nome = \"Gabriel Aguiar\"\n",
    "frase = 'Aprendendo Python!'\n"
   ]
  },
  {
   "cell_type": "markdown",
   "metadata": {},
   "source": [
    "## Operações com Strings\n",
    "### Concatenar Strings: Juntar duas ou mais strings usando o operador +."
   ]
  },
  {
   "cell_type": "code",
   "execution_count": 3,
   "metadata": {},
   "outputs": [
    {
     "name": "stdout",
     "output_type": "stream",
     "text": [
      "Olá, Gabriel Aguiar\n"
     ]
    }
   ],
   "source": [
    "saudacao = \"Olá, \" + nome\n",
    "print(saudacao)  # Saída: Olá, Gabriel Aguiar\n",
    "\n"
   ]
  },
  {
   "cell_type": "markdown",
   "metadata": {},
   "source": [
    "### Repetir Strings: Multiplica a string pelo número desejado.\n"
   ]
  },
  {
   "cell_type": "code",
   "execution_count": null,
   "metadata": {},
   "outputs": [],
   "source": [
    "risada = \"ha\" * 3\n",
    "print(risada)  # Saída: hahaha\n"
   ]
  },
  {
   "cell_type": "markdown",
   "metadata": {},
   "source": [
    "### Acessar Caracteres: Acessa um caractere específico de uma string pelo índice."
   ]
  },
  {
   "cell_type": "code",
   "execution_count": 4,
   "metadata": {},
   "outputs": [
    {
     "name": "stdout",
     "output_type": "stream",
     "text": [
      "G\n"
     ]
    }
   ],
   "source": [
    "letra = nome[0]\n",
    "print(letra)  # Saída: G\n"
   ]
  },
  {
   "cell_type": "markdown",
   "metadata": {},
   "source": [
    "## 2. Números\n",
    "### Python trabalha com vários tipos de números, como inteiros (int) e de ponto flutuante (float)."
   ]
  },
  {
   "cell_type": "code",
   "execution_count": null,
   "metadata": {},
   "outputs": [],
   "source": [
    "# Exemplo de número inteiro\n",
    "idade = 25\n",
    "\n",
    "# Exemplo de número com ponto flutuante\n",
    "altura = 1.75\n"
   ]
  },
  {
   "cell_type": "markdown",
   "metadata": {},
   "source": [
    "## Operações Básicas com Números\n",
    "### Soma (+), Subtração (-), Multiplicação (*), Divisão (/):"
   ]
  },
  {
   "cell_type": "code",
   "execution_count": 7,
   "metadata": {},
   "outputs": [
    {
     "name": "stdout",
     "output_type": "stream",
     "text": [
      "15\n",
      "7\n",
      "28\n",
      "5.0\n"
     ]
    }
   ],
   "source": [
    "soma = 10 + 5\n",
    "subtracao = 10 - 3\n",
    "multiplicacao = 4 * 7\n",
    "divisao = 20 / 4\n",
    "\n",
    "print(soma)          # Saída: 15\n",
    "print(subtracao)     # Saída: 7\n",
    "print(multiplicacao) # Saída: 28\n",
    "print(divisao)       # Saída: 5.0\n"
   ]
  },
  {
   "cell_type": "markdown",
   "metadata": {},
   "source": [
    "## Divisão Inteira (//): Retorna apenas a parte inteira da divisão."
   ]
  },
  {
   "cell_type": "code",
   "execution_count": null,
   "metadata": {},
   "outputs": [],
   "source": [
    "divisao_inteira = 20 // 3\n",
    "print(divisao_inteira)  # Saída: 6\n"
   ]
  },
  {
   "cell_type": "markdown",
   "metadata": {},
   "source": []
  }
 ],
 "metadata": {
  "kernelspec": {
   "display_name": "base",
   "language": "python",
   "name": "python3"
  },
  "language_info": {
   "codemirror_mode": {
    "name": "ipython",
    "version": 3
   },
   "file_extension": ".py",
   "mimetype": "text/x-python",
   "name": "python",
   "nbconvert_exporter": "python",
   "pygments_lexer": "ipython3",
   "version": "3.12.7"
  }
 },
 "nbformat": 4,
 "nbformat_minor": 2
}
