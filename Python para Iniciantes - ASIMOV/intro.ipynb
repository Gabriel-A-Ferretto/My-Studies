{
 "cells": [
  {
   "cell_type": "markdown",
   "metadata": {},
   "source": [
    "## Strings, Números, Operadores e Variáveis\n",
    "### 1. Strings\n",
    "*Strings são sequências de caracteres usadas para representar texto em Python. Elas são definidas entre aspas simples ('...') ou duplas (\"...\").*"
   ]
  },
  {
   "cell_type": "code",
   "execution_count": 2,
   "metadata": {},
   "outputs": [],
   "source": [
    "# Exemplo de string\n",
    "nome = \"Gabriel Aguiar\"\n",
    "frase = 'Aprendendo Python!'\n"
   ]
  },
  {
   "cell_type": "markdown",
   "metadata": {},
   "source": [
    "## Operações com Strings\n",
    "### Concatenar Strings: Juntar duas ou mais strings usando o operador +."
   ]
  },
  {
   "cell_type": "code",
   "execution_count": 3,
   "metadata": {},
   "outputs": [
    {
     "name": "stdout",
     "output_type": "stream",
     "text": [
      "Olá, Gabriel Aguiar\n"
     ]
    }
   ],
   "source": [
    "saudacao = \"Olá, \" + nome\n",
    "print(saudacao)  # Saída: Olá, Gabriel Aguiar\n",
    "\n"
   ]
  },
  {
   "cell_type": "markdown",
   "metadata": {},
   "source": [
    "### Repetir Strings: Multiplica a string pelo número desejado.\n"
   ]
  },
  {
   "cell_type": "code",
   "execution_count": null,
   "metadata": {},
   "outputs": [],
   "source": [
    "risada = \"ha\" * 3\n",
    "print(risada)  # Saída: hahaha\n"
   ]
  },
  {
   "cell_type": "markdown",
   "metadata": {},
   "source": [
    "### Acessar Caracteres: Acessa um caractere específico de uma string pelo índice."
   ]
  },
  {
   "cell_type": "code",
   "execution_count": 4,
   "metadata": {},
   "outputs": [
    {
     "name": "stdout",
     "output_type": "stream",
     "text": [
      "G\n"
     ]
    }
   ],
   "source": [
    "letra = nome[0]\n",
    "print(letra)  # Saída: G\n"
   ]
  },
  {
   "cell_type": "markdown",
   "metadata": {},
   "source": [
    "## 2. Números\n",
    "### Python trabalha com vários tipos de números, como inteiros (int) e de ponto flutuante (float)."
   ]
  },
  {
   "cell_type": "code",
   "execution_count": null,
   "metadata": {},
   "outputs": [],
   "source": [
    "# Exemplo de número inteiro\n",
    "idade = 25\n",
    "\n",
    "# Exemplo de número com ponto flutuante\n",
    "altura = 1.75\n"
   ]
  },
  {
   "cell_type": "markdown",
   "metadata": {},
   "source": [
    "## Operações Básicas com Números\n",
    "### Soma (+), Subtração (-), Multiplicação (*), Divisão (/):"
   ]
  },
  {
   "cell_type": "code",
   "execution_count": 7,
   "metadata": {},
   "outputs": [
    {
     "name": "stdout",
     "output_type": "stream",
     "text": [
      "15\n",
      "7\n",
      "28\n",
      "5.0\n"
     ]
    }
   ],
   "source": [
    "soma = 10 + 5\n",
    "subtracao = 10 - 3\n",
    "multiplicacao = 4 * 7\n",
    "divisao = 20 / 4\n",
    "\n",
    "print(soma)          # Saída: 15\n",
    "print(subtracao)     # Saída: 7\n",
    "print(multiplicacao) # Saída: 28\n",
    "print(divisao)       # Saída: 5.0\n"
   ]
  },
  {
   "cell_type": "markdown",
   "metadata": {},
   "source": [
    "## Divisão Inteira (//): Retorna apenas a parte inteira da divisão."
   ]
  },
  {
   "cell_type": "code",
   "execution_count": 9,
   "metadata": {},
   "outputs": [
    {
     "name": "stdout",
     "output_type": "stream",
     "text": [
      "6\n"
     ]
    }
   ],
   "source": [
    "divisao_inteira = 20 // 3\n",
    "print(divisao_inteira)  # Saída: 6\n"
   ]
  },
  {
   "cell_type": "markdown",
   "metadata": {},
   "source": [
    "## Módulo (%): Retorna o resto da divisão."
   ]
  },
  {
   "cell_type": "code",
   "execution_count": 8,
   "metadata": {},
   "outputs": [
    {
     "name": "stdout",
     "output_type": "stream",
     "text": [
      "1\n"
     ]
    }
   ],
   "source": [
    "resto = 10 % 3\n",
    "print(resto)  # Saída: 1\n"
   ]
  },
  {
   "cell_type": "markdown",
   "metadata": {},
   "source": [
    "## Exponenciação (**): Calcula um número elevado a uma potência."
   ]
  },
  {
   "cell_type": "code",
   "execution_count": 10,
   "metadata": {},
   "outputs": [
    {
     "name": "stdout",
     "output_type": "stream",
     "text": [
      "8\n"
     ]
    }
   ],
   "source": [
    "potencia = 2 ** 3\n",
    "print(potencia)  # Saída: 8\n"
   ]
  },
  {
   "cell_type": "markdown",
   "metadata": {},
   "source": [
    "## 3. Variáveis\n",
    "### Variáveis são usadas para armazenar dados em Python. Elas são definidas com um nome seguido do operador de atribuição (=) e o valor."
   ]
  },
  {
   "cell_type": "code",
   "execution_count": 11,
   "metadata": {},
   "outputs": [
    {
     "name": "stdout",
     "output_type": "stream",
     "text": [
      "Gabriel\n",
      "25\n",
      "1.75\n"
     ]
    }
   ],
   "source": [
    "# Criando variáveis\n",
    "nome = \"Gabriel\"\n",
    "idade = 25\n",
    "altura = 1.75\n",
    "\n",
    "print(nome)    # Saída: Gabriel\n",
    "print(idade)   # Saída: 25\n",
    "print(altura)  # Saída: 1.75\n"
   ]
  },
  {
   "cell_type": "markdown",
   "metadata": {},
   "source": [
    "### Tipos de Variáveis\n",
    "*String (str): Texto.*\n",
    "\n",
    "*Inteiro (int): Números inteiros.*\n",
    "\n",
    "*Ponto flutuante (float): Números decimais.*"
   ]
  },
  {
   "cell_type": "markdown",
   "metadata": {},
   "source": []
  },
  {
   "cell_type": "code",
   "execution_count": null,
   "metadata": {},
   "outputs": [],
   "source": [
    "cidade = \"São Paulo\"  # String\n",
    "ano = 2024            # Inteiro\n",
    "peso = 72.5           # Ponto flutuante\n"
   ]
  },
  {
   "cell_type": "markdown",
   "metadata": {},
   "source": [
    "### Reatribuindo Valores\n",
    "*O valor de uma variável pode ser alterado ao longo do código.*\n"
   ]
  },
  {
   "cell_type": "code",
   "execution_count": 12,
   "metadata": {},
   "outputs": [
    {
     "name": "stdout",
     "output_type": "stream",
     "text": [
      "26\n"
     ]
    }
   ],
   "source": [
    "idade = 26\n",
    "print(idade)  # Saída: 26\n"
   ]
  },
  {
   "cell_type": "markdown",
   "metadata": {},
   "source": [
    "## Tipo Dinâmico\n",
    "*Em Python, as variáveis podem mudar de tipo, por exemplo, de int para str.*\n"
   ]
  },
  {
   "cell_type": "code",
   "execution_count": 13,
   "metadata": {},
   "outputs": [
    {
     "name": "stdout",
     "output_type": "stream",
     "text": [
      "dez\n"
     ]
    }
   ],
   "source": [
    "numero = 10         # Variável 'numero' é do tipo int\n",
    "numero = \"dez\"      # Agora é do tipo str\n",
    "print(numero)       # Saída: dez\n"
   ]
  },
  {
   "cell_type": "markdown",
   "metadata": {},
   "source": [
    "## 4. Operadores\n",
    "*Operadores de Comparação* \n",
    "Usados para comparar valores e retornar um valor **True** ou **False.**\n",
    "\n",
    "Igual (==)\n",
    "\n",
    "Diferente (!=)\n",
    "\n",
    "Maior que (>)\n",
    "\n",
    "Menor que (<)\n",
    "\n",
    "Maior ou igual (>=)\n",
    "\n",
    "Menor ou igual (<=)"
   ]
  },
  {
   "cell_type": "code",
   "execution_count": 14,
   "metadata": {},
   "outputs": [
    {
     "name": "stdout",
     "output_type": "stream",
     "text": [
      "False\n",
      "True\n",
      "False\n"
     ]
    }
   ],
   "source": [
    "a = 10\n",
    "b = 5\n",
    "\n",
    "print(a == b)    # Saída: False\n",
    "print(a > b)     # Saída: True\n",
    "print(a <= b)    # Saída: False\n"
   ]
  },
  {
   "cell_type": "markdown",
   "metadata": {},
   "source": [
    "## Operadores Lógicos\n",
    "\n",
    "E **(and)**: Retorna True se ambas as condições forem verdadeiras.\n",
    "\n",
    "Ou **(or)**: Retorna True se ao menos uma condição for verdadeira.\n",
    "\n",
    "Não **(not)**: Inverte o valor lógico."
   ]
  },
  {
   "cell_type": "code",
   "execution_count": 15,
   "metadata": {},
   "outputs": [
    {
     "name": "stdout",
     "output_type": "stream",
     "text": [
      "False\n",
      "True\n",
      "False\n"
     ]
    }
   ],
   "source": [
    "x = True\n",
    "y = False\n",
    "\n",
    "print(x and y)   # Saída: False\n",
    "print(x or y)    # Saída: True\n",
    "print(not x)     # Saída: False\n"
   ]
  }
 ],
 "metadata": {
  "kernelspec": {
   "display_name": "base",
   "language": "python",
   "name": "python3"
  },
  "language_info": {
   "codemirror_mode": {
    "name": "ipython",
    "version": 3
   },
   "file_extension": ".py",
   "mimetype": "text/x-python",
   "name": "python",
   "nbconvert_exporter": "python",
   "pygments_lexer": "ipython3",
   "version": "3.12.7"
  }
 },
 "nbformat": 4,
 "nbformat_minor": 2
}
