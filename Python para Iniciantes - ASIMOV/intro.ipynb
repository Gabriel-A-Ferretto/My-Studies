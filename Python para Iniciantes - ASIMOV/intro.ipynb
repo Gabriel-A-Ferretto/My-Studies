{
 "cells": [
  {
   "cell_type": "code",
   "execution_count": 1,
   "metadata": {},
   "outputs": [
    {
     "name": "stdout",
     "output_type": "stream",
     "text": [
      "Hello Word!\n"
     ]
    }
   ],
   "source": [
    "print(\"Hello Word!\") # String tudo que esta entre \"\" -> aspas duplas ou simples\n"
   ]
  },
  {
   "cell_type": "code",
   "execution_count": 4,
   "metadata": {},
   "outputs": [
    {
     "name": "stdout",
     "output_type": "stream",
     "text": [
      "10\n",
      "4\n",
      "-4\n",
      "21\n",
      "0\n",
      "21\n",
      "2.3333333333333335\n"
     ]
    }
   ],
   "source": [
    "n1 = 7\n",
    "n2 = 3\n",
    "print(n1 + n2)\n",
    "print(n1 - n2 )\n",
    "print(n2 - n1)\n",
    "print(n2 * n1)\n",
    "print(n2 // n1)\n",
    "print(n1 * n2)\n",
    "print(n1 / n2)"
   ]
  },
  {
   "cell_type": "code",
   "execution_count": null,
   "metadata": {},
   "outputs": [],
   "source": []
  }
 ],
 "metadata": {
  "kernelspec": {
   "display_name": "base",
   "language": "python",
   "name": "python3"
  },
  "language_info": {
   "codemirror_mode": {
    "name": "ipython",
    "version": 3
   },
   "file_extension": ".py",
   "mimetype": "text/x-python",
   "name": "python",
   "nbconvert_exporter": "python",
   "pygments_lexer": "ipython3",
   "version": "3.12.7"
  }
 },
 "nbformat": 4,
 "nbformat_minor": 2
}
